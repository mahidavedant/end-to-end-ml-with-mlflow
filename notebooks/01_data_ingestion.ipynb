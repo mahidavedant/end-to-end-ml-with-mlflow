{
 "cells": [
  {
   "cell_type": "code",
   "execution_count": 9,
   "metadata": {},
   "outputs": [],
   "source": [
    "import os\n",
    "import ssl\n",
    "\n",
    "ssl._create_default_https_context = ssl._create_stdlib_context"
   ]
  },
  {
   "cell_type": "code",
   "execution_count": 2,
   "metadata": {},
   "outputs": [
    {
     "name": "stdout",
     "output_type": "stream",
     "text": [
      "/Users/vedantmahida/Desktop/end-to-end-ml-with-mlflow/notebooks\n"
     ]
    }
   ],
   "source": [
    "!pwd"
   ]
  },
  {
   "cell_type": "code",
   "execution_count": 3,
   "metadata": {},
   "outputs": [
    {
     "name": "stdout",
     "output_type": "stream",
     "text": [
      "/Users/vedantmahida/Desktop/end-to-end-ml-with-mlflow\n"
     ]
    }
   ],
   "source": [
    "os.chdir('../')\n",
    "!pwd"
   ]
  },
  {
   "cell_type": "code",
   "execution_count": 4,
   "metadata": {},
   "outputs": [],
   "source": [
    "# 1. Update config.yaml [done]\n",
    "\n",
    "\n",
    "# 3. entity\n",
    "# entity = return type of a function\n",
    "from dataclasses import dataclass\n",
    "from pathlib import Path\n",
    "\n",
    "@dataclass(frozen=True)\n",
    "class DataIngestionConfig:\n",
    "  root_dir: Path\n",
    "  source_url: str\n",
    "  local_data_file: Path\n",
    "  unzip_dir: Path"
   ]
  },
  {
   "cell_type": "code",
   "execution_count": 5,
   "metadata": {},
   "outputs": [
    {
     "data": {
      "text/plain": [
       "(PosixPath('config/config.yaml'),\n",
       " PosixPath('params.yaml'),\n",
       " PosixPath('schema.yaml'))"
      ]
     },
     "execution_count": 5,
     "metadata": {},
     "output_type": "execute_result"
    }
   ],
   "source": [
    "from mlProject.constants import *\n",
    "from mlProject.utils.common import read_yaml, create_directories\n",
    "\n",
    "# check import\n",
    "CONFIG_FILE_PATH, PARAMS_FILE_PATH, SCHEMA_FILE_PATH\n"
   ]
  },
  {
   "cell_type": "code",
   "execution_count": 6,
   "metadata": {},
   "outputs": [],
   "source": [
    "# 4. Update the configuration manager in src cofig\n",
    "class ConfigurationManager:\n",
    "  def __init__(\n",
    "      self,\n",
    "      config_file_path = CONFIG_FILE_PATH,\n",
    "      params_file_path = PARAMS_FILE_PATH,\n",
    "      schema_file_path = SCHEMA_FILE_PATH\n",
    "      ):\n",
    "    \n",
    "    # read yaml files\n",
    "    self.config = read_yaml(config_file_path)\n",
    "    self.params = read_yaml(params_file_path)\n",
    "    self.schema = read_yaml(schema_file_path)\n",
    "\n",
    "    # create directory (artifacts) from config.yaml\n",
    "    create_directories([self.config.artifacts_root])\n",
    "  \n",
    "  \n",
    "  def get_data_ingestion_config(self) -> DataIngestionConfig:\n",
    "    # config.yaml\n",
    "    config = self.config.data_ingestion \n",
    "    create_directories([config.root_dir])\n",
    "\n",
    "    data_ingestion_config = DataIngestionConfig(\n",
    "      root_dir=config.root_dir,\n",
    "      source_url=config.source_url,\n",
    "      local_data_file=config.local_data_file,\n",
    "      unzip_dir=config.unzip_dir\n",
    "    )\n",
    "\n",
    "    return data_ingestion_config"
   ]
  },
  {
   "cell_type": "code",
   "execution_count": 7,
   "metadata": {},
   "outputs": [],
   "source": [
    "# 5. Update components\n",
    "import urllib.request as request\n",
    "import zipfile\n",
    "from mlProject.logging.customLogger import logger\n",
    "from mlProject.utils.common import get_size\n",
    "\n",
    "# Data Ingestion\n",
    "class DataIngestion:\n",
    "  def __init__(self, config: DataIngestionConfig):\n",
    "    self.config = config\n",
    "  \n",
    "  def download_file(self):\n",
    "    # download data file from src url to local file\n",
    "    if not os.path.exists(self.config.local_data_file):\n",
    "      filename, headers = request.urlretrieve(\n",
    "        url=self.config.source_url, \n",
    "        filename=self.config.local_data_file\n",
    "      )\n",
    "      logger.info(f\"{filename} downloaded with following info: \\n{headers}\")\n",
    "\n",
    "    else:\n",
    "      logger.info(f\"{filename} already exists of size: {get_size(Path(self.config.local_data_file))}\")\n",
    "  \n",
    "\n",
    "  def extract_zip_file(self):\n",
    "    unzip_path = self.config.unzip_dir\n",
    "    os.makedirs(unzip_path, exist_ok=True)\n",
    "    # unzip files in local data file\n",
    "    with zipfile.ZipFile(self.config.local_data_file, 'r') as zip_ref:\n",
    "      zip_ref.extractall(unzip_path)"
   ]
  },
  {
   "cell_type": "code",
   "execution_count": 10,
   "metadata": {},
   "outputs": [
    {
     "name": "stdout",
     "output_type": "stream",
     "text": [
      "Mar 19 12:19:16 common:65 INFO YAML file: <_io.TextIOWrapper name='config/config.yaml' mode='r' encoding='UTF-8'> loaded successfully!\n",
      "Mar 19 12:19:16 common:65 INFO YAML file: <_io.TextIOWrapper name='params.yaml' mode='r' encoding='UTF-8'> loaded successfully!\n",
      "Mar 19 12:19:16 common:65 INFO YAML file: <_io.TextIOWrapper name='schema.yaml' mode='r' encoding='UTF-8'> loaded successfully!\n",
      "Mar 19 12:19:16 common:29 INFO Directory created at: artifacts\n",
      "Mar 19 12:19:16 common:29 INFO Directory created at: artifacts/data_ingestion\n",
      "Mar 19 12:19:16 1081470741:19 INFO artifacts/data_ingestion/data.zip downloaded with following info: \n",
      "Connection: close\n",
      "Content-Length: 23329\n",
      "Cache-Control: max-age=300\n",
      "Content-Security-Policy: default-src 'none'; style-src 'unsafe-inline'; sandbox\n",
      "Content-Type: application/zip\n",
      "ETag: \"c69888a4ae59bc5a893392785a938ccd4937981c06ba8a9d6a21aa52b4ab5b6e\"\n",
      "Strict-Transport-Security: max-age=31536000\n",
      "X-Content-Type-Options: nosniff\n",
      "X-Frame-Options: deny\n",
      "X-XSS-Protection: 1; mode=block\n",
      "X-GitHub-Request-Id: 4A04:4829:2FDB0:374FB:65F9BB03\n",
      "Accept-Ranges: bytes\n",
      "Date: Tue, 19 Mar 2024 16:19:16 GMT\n",
      "Via: 1.1 varnish\n",
      "X-Served-By: cache-ewr18156-EWR\n",
      "X-Cache: MISS\n",
      "X-Cache-Hits: 0\n",
      "X-Timer: S1710865157.548661,VS0,VE52\n",
      "Vary: Authorization,Accept-Encoding,Origin\n",
      "Access-Control-Allow-Origin: *\n",
      "Cross-Origin-Resource-Policy: cross-origin\n",
      "X-Fastly-Request-ID: 5ab73fb7c2687e7092b81b4ff550d1d2e9436fe1\n",
      "Expires: Tue, 19 Mar 2024 16:24:16 GMT\n",
      "Source-Age: 0\n",
      "\n",
      "\n"
     ]
    }
   ],
   "source": [
    "# 6. Update pipeline\n",
    "try:\n",
    "  config = ConfigurationManager()\n",
    "  data_ingestion_config = config.get_data_ingestion_config()\n",
    "  data_ingestion = DataIngestion(config=data_ingestion_config)\n",
    "  data_ingestion.download_file()\n",
    "  data_ingestion.extract_zip_file()\n",
    "  \n",
    "except Exception as e:\n",
    "  raise e"
   ]
  },
  {
   "cell_type": "code",
   "execution_count": null,
   "metadata": {},
   "outputs": [],
   "source": []
  }
 ],
 "metadata": {
  "kernelspec": {
   "display_name": "Python 3",
   "language": "python",
   "name": "python3"
  },
  "language_info": {
   "codemirror_mode": {
    "name": "ipython",
    "version": 3
   },
   "file_extension": ".py",
   "mimetype": "text/x-python",
   "name": "python",
   "nbconvert_exporter": "python",
   "pygments_lexer": "ipython3",
   "version": "3.10.4"
  }
 },
 "nbformat": 4,
 "nbformat_minor": 2
}
