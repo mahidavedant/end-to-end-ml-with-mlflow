{
 "cells": [
  {
   "cell_type": "code",
   "execution_count": 1,
   "metadata": {},
   "outputs": [],
   "source": [
    "import os\n",
    "import pandas as pd\n",
    "from dataclasses import dataclass\n",
    "from pathlib import Path\n",
    "from mlProject.logging.customLogger import logger"
   ]
  },
  {
   "cell_type": "code",
   "execution_count": 2,
   "metadata": {},
   "outputs": [
    {
     "name": "stdout",
     "output_type": "stream",
     "text": [
      "/Users/vedantmahida/Desktop/end-to-end-ml-with-mlflow/notebooks\n"
     ]
    }
   ],
   "source": [
    "!pwd"
   ]
  },
  {
   "cell_type": "code",
   "execution_count": 3,
   "metadata": {},
   "outputs": [],
   "source": [
    "os.chdir('../')"
   ]
  },
  {
   "cell_type": "code",
   "execution_count": 4,
   "metadata": {},
   "outputs": [
    {
     "name": "stdout",
     "output_type": "stream",
     "text": [
      "/Users/vedantmahida/Desktop/end-to-end-ml-with-mlflow\n"
     ]
    }
   ],
   "source": [
    "!pwd"
   ]
  },
  {
   "cell_type": "code",
   "execution_count": 5,
   "metadata": {},
   "outputs": [
    {
     "name": "stdout",
     "output_type": "stream",
     "text": [
      "<class 'pandas.core.frame.DataFrame'>\n",
      "RangeIndex: 1599 entries, 0 to 1598\n",
      "Data columns (total 12 columns):\n",
      " #   Column                Non-Null Count  Dtype  \n",
      "---  ------                --------------  -----  \n",
      " 0   fixed acidity         1599 non-null   float64\n",
      " 1   volatile acidity      1599 non-null   float64\n",
      " 2   citric acid           1599 non-null   float64\n",
      " 3   residual sugar        1599 non-null   float64\n",
      " 4   chlorides             1599 non-null   float64\n",
      " 5   free sulfur dioxide   1599 non-null   float64\n",
      " 6   total sulfur dioxide  1599 non-null   float64\n",
      " 7   density               1599 non-null   float64\n",
      " 8   pH                    1599 non-null   float64\n",
      " 9   sulphates             1599 non-null   float64\n",
      " 10  alcohol               1599 non-null   float64\n",
      " 11  quality               1599 non-null   int64  \n",
      "dtypes: float64(11), int64(1)\n",
      "memory usage: 150.0 KB\n"
     ]
    }
   ],
   "source": [
    "# Schema Validation\n",
    "\n",
    "# 1.Update config.yaml\n",
    "# 2. Update schema.yaml (see columns)\n",
    "df = pd.read_csv('artifacts/data_ingestion/winequality-red.csv')\n",
    "df.info()"
   ]
  },
  {
   "cell_type": "code",
   "execution_count": 6,
   "metadata": {},
   "outputs": [
    {
     "data": {
      "text/plain": [
       "array([dtype('float64'), dtype('float64'), dtype('float64'),\n",
       "       dtype('float64'), dtype('float64'), dtype('float64'),\n",
       "       dtype('float64'), dtype('float64'), dtype('float64'),\n",
       "       dtype('float64'), dtype('float64'), dtype('int64')], dtype=object)"
      ]
     },
     "execution_count": 6,
     "metadata": {},
     "output_type": "execute_result"
    }
   ],
   "source": [
    "df.dtypes.values"
   ]
  },
  {
   "cell_type": "code",
   "execution_count": 7,
   "metadata": {},
   "outputs": [
    {
     "data": {
      "text/plain": [
       "dtype('float64')"
      ]
     },
     "execution_count": 7,
     "metadata": {},
     "output_type": "execute_result"
    }
   ],
   "source": [
    "df.pH.dtype"
   ]
  },
  {
   "cell_type": "code",
   "execution_count": 8,
   "metadata": {},
   "outputs": [
    {
     "data": {
      "text/plain": [
       "[dtype('float64'),\n",
       " dtype('float64'),\n",
       " dtype('float64'),\n",
       " dtype('float64'),\n",
       " dtype('float64'),\n",
       " dtype('float64'),\n",
       " dtype('float64'),\n",
       " dtype('float64'),\n",
       " dtype('float64'),\n",
       " dtype('float64'),\n",
       " dtype('float64'),\n",
       " dtype('int64')]"
      ]
     },
     "execution_count": 8,
     "metadata": {},
     "output_type": "execute_result"
    }
   ],
   "source": [
    "[df[col].dtype for col in df.columns]"
   ]
  },
  {
   "cell_type": "code",
   "execution_count": 9,
   "metadata": {},
   "outputs": [],
   "source": [
    "# 4.Update entity\n",
    "@dataclass(frozen=True)\n",
    "class DataValidationConfig:\n",
    "  root_dir: Path\n",
    "  unzip_data_dir: Path\n",
    "  STATUS_FILE: str\n",
    "  all_schema: dict"
   ]
  },
  {
   "cell_type": "code",
   "execution_count": 10,
   "metadata": {},
   "outputs": [
    {
     "data": {
      "text/plain": [
       "(PosixPath('config/config.yaml'),\n",
       " PosixPath('params.yaml'),\n",
       " PosixPath('schema.yaml'))"
      ]
     },
     "execution_count": 10,
     "metadata": {},
     "output_type": "execute_result"
    }
   ],
   "source": [
    "# 5. Update configuration manager in src config\n",
    "from mlProject.constants import *\n",
    "from mlProject.utils.common import read_yaml, create_directories\n",
    "\n",
    "CONFIG_FILE_PATH, PARAMS_FILE_PATH, SCHEMA_FILE_PATH"
   ]
  },
  {
   "cell_type": "code",
   "execution_count": 11,
   "metadata": {},
   "outputs": [],
   "source": [
    "class ConfigurationManager:\n",
    "  def __init__(\n",
    "      self,\n",
    "      config_filepath = CONFIG_FILE_PATH,\n",
    "      params_filepath = PARAMS_FILE_PATH,\n",
    "      schema_filepath = SCHEMA_FILE_PATH):\n",
    "    \n",
    "      self.config = read_yaml(config_filepath)\n",
    "      self.params = read_yaml(params_filepath)\n",
    "      self.schema = read_yaml(schema_filepath)\n",
    "\n",
    "      create_directories([self.config.artifacts_root])\n",
    "  \n",
    "\n",
    "  def get_data_validation_config(self) -> DataValidationConfig:\n",
    "     config = self.config.data_validation\n",
    "     schema = self.schema.COLUMNS\n",
    "\n",
    "     create_directories([config.root_dir])\n",
    "\n",
    "     data_validation_config = DataValidationConfig(\n",
    "        root_dir=config.root_dir,\n",
    "        STATUS_FILE=config.STATUS_FILE,\n",
    "        unzip_data_dir=config.unzip_data_dir,\n",
    "        all_schema=schema\n",
    "     )\n",
    "     \n",
    "     return data_validation_config"
   ]
  },
  {
   "cell_type": "code",
   "execution_count": 12,
   "metadata": {},
   "outputs": [],
   "source": [
    "# 6. Update the components\n",
    "class DataValidation:\n",
    "  def __init__(self, config: DataValidationConfig):\n",
    "    self.config = config\n",
    "  \n",
    "  def validate_all_columns(self) -> bool:\n",
    "    try:\n",
    "      validation_status = None\n",
    "\n",
    "      data = pd.read_csv(self.config.unzip_data_dir)\n",
    "      all_columns = list(data.columns)\n",
    "      all_dtypes = [data[col].dtype for col in all_columns]\n",
    "\n",
    "      all_schema = self.config.all_schema.keys()\n",
    "\n",
    "      # Validate if all columns are present with correct datatypes\n",
    "      for col, dtype in zip(all_columns, all_dtypes):\n",
    "        # set status to False if not validated schema and write to status file\n",
    "        # else (true) write to status file\n",
    "        if col not in all_schema or dtype != self.config.all_schema[col]:\n",
    "          validation_status = False\n",
    "          with open(self.config.STATUS_FILE, 'w') as f:\n",
    "            f.write(f\"Validation Status: {validation_status}\")\n",
    "        else:\n",
    "          validation_status = True\n",
    "          with open(self.config.STATUS_FILE, 'w') as f:\n",
    "            f.write(f\"Validation Status: {validation_status}\")\n",
    "      \n",
    "      return validation_status\n",
    "    \n",
    "    except Exception as e:\n",
    "      raise e"
   ]
  },
  {
   "cell_type": "code",
   "execution_count": 13,
   "metadata": {},
   "outputs": [
    {
     "name": "stdout",
     "output_type": "stream",
     "text": [
      "Mar 20 11:01:43 common:65 INFO YAML file: config/config.yaml loaded successfully!\n",
      "Mar 20 11:01:43 common:65 INFO YAML file: params.yaml loaded successfully!\n",
      "Mar 20 11:01:43 common:65 INFO YAML file: schema.yaml loaded successfully!\n",
      "Mar 20 11:01:43 common:29 INFO Directory created at: artifacts\n",
      "Mar 20 11:01:43 common:29 INFO Directory created at: artifacts/data_validation\n"
     ]
    }
   ],
   "source": [
    "# 7. Update the pipeline\n",
    "try:\n",
    "  config = ConfigurationManager()\n",
    "  data_validation  = config.get_data_validation_config()\n",
    "  data_validation = DataValidation(config=data_validation)\n",
    "  data_validation.validate_all_columns()\n",
    "  \n",
    "except Exception as e:\n",
    "  raise e"
   ]
  },
  {
   "cell_type": "code",
   "execution_count": null,
   "metadata": {},
   "outputs": [],
   "source": []
  }
 ],
 "metadata": {
  "kernelspec": {
   "display_name": "Python 3",
   "language": "python",
   "name": "python3"
  },
  "language_info": {
   "codemirror_mode": {
    "name": "ipython",
    "version": 3
   },
   "file_extension": ".py",
   "mimetype": "text/x-python",
   "name": "python",
   "nbconvert_exporter": "python",
   "pygments_lexer": "ipython3",
   "version": "3.10.4"
  }
 },
 "nbformat": 4,
 "nbformat_minor": 2
}
