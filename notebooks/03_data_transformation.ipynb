{
 "cells": [
  {
   "cell_type": "code",
   "execution_count": 1,
   "metadata": {},
   "outputs": [],
   "source": [
    "import os\n",
    "import pandas as pd\n",
    "from dataclasses import dataclass\n",
    "from pathlib import Path\n",
    "from mlProject.logging.customLogger import logger\n",
    "from sklearn.model_selection import train_test_split"
   ]
  },
  {
   "cell_type": "code",
   "execution_count": 2,
   "metadata": {},
   "outputs": [
    {
     "name": "stdout",
     "output_type": "stream",
     "text": [
      "/Users/vedantmahida/Desktop/end-to-end-ml-with-mlflow/notebooks\n"
     ]
    }
   ],
   "source": [
    "!pwd"
   ]
  },
  {
   "cell_type": "code",
   "execution_count": 3,
   "metadata": {},
   "outputs": [],
   "source": [
    "os.chdir('../')"
   ]
  },
  {
   "cell_type": "code",
   "execution_count": 4,
   "metadata": {},
   "outputs": [
    {
     "name": "stdout",
     "output_type": "stream",
     "text": [
      "/Users/vedantmahida/Desktop/end-to-end-ml-with-mlflow\n"
     ]
    }
   ],
   "source": [
    "!pwd"
   ]
  },
  {
   "cell_type": "code",
   "execution_count": 5,
   "metadata": {},
   "outputs": [],
   "source": [
    "# 1. Update config.yaml\n",
    "# 4. Update the entity\n",
    "@dataclass(frozen=True)\n",
    "class DataTransformationConfig:\n",
    "  root_dir: Path\n",
    "  data_path: Path"
   ]
  },
  {
   "cell_type": "code",
   "execution_count": 6,
   "metadata": {},
   "outputs": [
    {
     "data": {
      "text/plain": [
       "(PosixPath('config/config.yaml'),\n",
       " PosixPath('params.yaml'),\n",
       " PosixPath('schema.yaml'))"
      ]
     },
     "execution_count": 6,
     "metadata": {},
     "output_type": "execute_result"
    }
   ],
   "source": [
    "# 5. Update configuration manager in src config\n",
    "from mlProject.constants import *\n",
    "from mlProject.utils.common import read_yaml, create_directories\n",
    "\n",
    "CONFIG_FILE_PATH, PARAMS_FILE_PATH, SCHEMA_FILE_PATH"
   ]
  },
  {
   "cell_type": "code",
   "execution_count": 7,
   "metadata": {},
   "outputs": [],
   "source": [
    "class ConfigurationManager:\n",
    "    def __init__(\n",
    "            self,\n",
    "            config_filepath=CONFIG_FILE_PATH,\n",
    "            params_filepath=PARAMS_FILE_PATH,\n",
    "            schema_filepath=SCHEMA_FILE_PATH):\n",
    "\n",
    "        self.config = read_yaml(config_filepath)\n",
    "        self.params = read_yaml(params_filepath)\n",
    "        self.schema = read_yaml(schema_filepath)\n",
    "\n",
    "        create_directories([self.config.artifacts_root])\n",
    "\n",
    "    def get_data_transformation_config(self) -> DataTransformationConfig:\n",
    "        config = self.config.data_transformation\n",
    "\n",
    "        create_directories([config.root_dir])\n",
    "\n",
    "        data_transformation_config = DataTransformationConfig(\n",
    "            root_dir=config.root_dir,\n",
    "            data_path=config.data_path,\n",
    "        )\n",
    "\n",
    "        return data_transformation_config"
   ]
  },
  {
   "cell_type": "code",
   "execution_count": 8,
   "metadata": {},
   "outputs": [],
   "source": [
    "# 6. Update the components\n",
    "class DataTransformation:\n",
    "  def __init__(self, config: DataTransformationConfig):\n",
    "    self.config = config\n",
    "\n",
    "  # Note: We can add different data transformations such as Scaler, Onehot encoding etc.\n",
    "  # All kinds of EDA in ML cycle can also be passed here before passing data to the model.\n",
    "  # Only train test split is added here because data is already clean and ready for use.\n",
    "    \n",
    "  def train_test_splitting(self):\n",
    "    data = pd.read_csv(self.config.data_path)\n",
    "    # train test split (0.80, 0.20)\n",
    "    train, test = train_test_split(data)\n",
    "\n",
    "    train.to_csv(os.path.join(self.config.root_dir, 'train.csv'), index=False)\n",
    "    test.to_csv(os.path.join(self.config.root_dir, 'test.csv'), index=False)\n",
    "\n",
    "    logger.info(\"Splitted data into train and test sets.\")\n",
    "    logger.info(train.shape)\n",
    "    logger.info(test.shape)\n",
    "\n",
    "    print(train.shape)\n",
    "    print(test.shape)"
   ]
  },
  {
   "cell_type": "code",
   "execution_count": 9,
   "metadata": {},
   "outputs": [
    {
     "name": "stdout",
     "output_type": "stream",
     "text": [
      "Mar 20 12:51:39 common:65 INFO YAML file: config/config.yaml loaded successfully!\n",
      "Mar 20 12:51:39 common:65 INFO YAML file: params.yaml loaded successfully!\n",
      "Mar 20 12:51:39 common:65 INFO YAML file: schema.yaml loaded successfully!\n",
      "Mar 20 12:51:39 common:29 INFO Directory created at: artifacts\n",
      "Mar 20 12:51:39 common:29 INFO Directory created at: artifacts/data_transformation\n",
      "Mar 20 12:51:39 4177759729:18 INFO Splitted data into train and test sets.\n",
      "Mar 20 12:51:39 4177759729:19 INFO (1199, 12)\n",
      "Mar 20 12:51:39 4177759729:20 INFO (400, 12)\n",
      "(1199, 12)\n",
      "(400, 12)\n"
     ]
    }
   ],
   "source": [
    "# 7. Update pipleline\n",
    "try:\n",
    "  config = ConfigurationManager()\n",
    "  data_transformation_config = config.get_data_transformation_config()\n",
    "  data_transformation = DataTransformation(config=data_transformation_config)\n",
    "  data_transformation.train_test_splitting()\n",
    "  \n",
    "except Exception as e:\n",
    "  raise e"
   ]
  },
  {
   "cell_type": "code",
   "execution_count": null,
   "metadata": {},
   "outputs": [],
   "source": []
  }
 ],
 "metadata": {
  "kernelspec": {
   "display_name": "Python 3",
   "language": "python",
   "name": "python3"
  },
  "language_info": {
   "codemirror_mode": {
    "name": "ipython",
    "version": 3
   },
   "file_extension": ".py",
   "mimetype": "text/x-python",
   "name": "python",
   "nbconvert_exporter": "python",
   "pygments_lexer": "ipython3",
   "version": "3.10.4"
  }
 },
 "nbformat": 4,
 "nbformat_minor": 2
}
