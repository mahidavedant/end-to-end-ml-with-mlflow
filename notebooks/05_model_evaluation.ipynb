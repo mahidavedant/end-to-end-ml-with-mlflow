{
 "cells": [
  {
   "cell_type": "code",
   "execution_count": 1,
   "metadata": {},
   "outputs": [],
   "source": [
    "import os"
   ]
  },
  {
   "cell_type": "code",
   "execution_count": 2,
   "metadata": {},
   "outputs": [
    {
     "name": "stdout",
     "output_type": "stream",
     "text": [
      "/Users/vedantmahida/Desktop/end-to-end-ml-with-mlflow/notebooks\n"
     ]
    }
   ],
   "source": [
    "!pwd"
   ]
  },
  {
   "cell_type": "code",
   "execution_count": 3,
   "metadata": {},
   "outputs": [],
   "source": [
    "os.chdir('../')"
   ]
  },
  {
   "cell_type": "code",
   "execution_count": 4,
   "metadata": {},
   "outputs": [
    {
     "name": "stdout",
     "output_type": "stream",
     "text": [
      "/Users/vedantmahida/Desktop/end-to-end-ml-with-mlflow\n"
     ]
    }
   ],
   "source": [
    "!pwd"
   ]
  },
  {
   "cell_type": "code",
   "execution_count": 5,
   "metadata": {},
   "outputs": [],
   "source": [
    "os.environ['MLFLOW_TRACKING_URI'] = 'https://dagshub.com/mahidavedant/end-to-end-ml-with-mlflow.mlflow'\n",
    "os.environ['MLFLOW_TRACKING_USERNAME'] = 'mahidavedant'\n",
    "os.environ['MLFLOW_TRACKING_PASSWORD'] = '19390786719f78c7b137e4079a8efcd41c8e84ac'"
   ]
  },
  {
   "cell_type": "code",
   "execution_count": 11,
   "metadata": {},
   "outputs": [],
   "source": [
    "# 1. Update config.yaml\n",
    "# 4. Update entity\n",
    "from dataclasses import dataclass\n",
    "from pathlib import Path\n",
    "\n",
    "\n",
    "@dataclass(frozen=True)\n",
    "class ModelEvaluationConfig:\n",
    "    root_dir: Path\n",
    "    test_data_path: Path\n",
    "    model_path: Path\n",
    "    all_params: dict\n",
    "    metric_file_name: Path\n",
    "    target_column: str\n",
    "    mlflow_uri: str"
   ]
  },
  {
   "cell_type": "code",
   "execution_count": 12,
   "metadata": {},
   "outputs": [
    {
     "data": {
      "text/plain": [
       "(PosixPath('config/config.yaml'),\n",
       " PosixPath('params.yaml'),\n",
       " PosixPath('schema.yaml'))"
      ]
     },
     "execution_count": 12,
     "metadata": {},
     "output_type": "execute_result"
    }
   ],
   "source": [
    "# 5. Update configuration manager in src config\n",
    "from mlProject.constants import *\n",
    "from mlProject.utils.common import read_yaml, create_directories, save_json\n",
    "\n",
    "CONFIG_FILE_PATH, PARAMS_FILE_PATH, SCHEMA_FILE_PATH"
   ]
  },
  {
   "cell_type": "code",
   "execution_count": 13,
   "metadata": {},
   "outputs": [],
   "source": [
    "class ConfigurationManager:\n",
    "    def __init__(\n",
    "            self,\n",
    "            config_filepath=CONFIG_FILE_PATH,\n",
    "            params_filepath=PARAMS_FILE_PATH,\n",
    "            schema_filepath=SCHEMA_FILE_PATH):\n",
    "\n",
    "        self.config = read_yaml(config_filepath)\n",
    "        self.params = read_yaml(params_filepath)\n",
    "        self.schema = read_yaml(schema_filepath)\n",
    "\n",
    "        create_directories([self.config.artifacts_root])\n",
    "\n",
    "    def get_model_evaluation_config(self) -> ModelEvaluationConfig:\n",
    "        config = self.config.model_evaluation\n",
    "        params = self.params.ElasticNet\n",
    "        schema = self.schema.TARGET_COLUMN\n",
    "\n",
    "        create_directories([config.root_dir])\n",
    "\n",
    "        model_evaluation_config = ModelEvaluationConfig(\n",
    "            root_dir=config.root_dir,\n",
    "            test_data_path=config.test_data_path,\n",
    "            model_path=config.model_path,\n",
    "            all_params=params,\n",
    "            metric_file_name=config.metric_file_name,\n",
    "            target_column=schema.name,\n",
    "            mlflow_uri=\"https://dagshub.com/mahidavedant/end-to-end-ml-with-mlflow.mlflow\",\n",
    "\n",
    "        )\n",
    "\n",
    "        return model_evaluation_config"
   ]
  },
  {
   "cell_type": "code",
   "execution_count": 14,
   "metadata": {},
   "outputs": [],
   "source": [
    "# 6. Update components\n",
    "import pandas as pd\n",
    "from sklearn.metrics import mean_squared_error, mean_absolute_error, r2_score\n",
    "from urllib.parse import urlparse\n",
    "import mlflow\n",
    "import mlflow.sklearn \n",
    "import numpy as np\n",
    "import joblib\n",
    "\n",
    "\n",
    "class ModelEvaluation:\n",
    "  def __init__(self, config: ModelEvaluationConfig):\n",
    "    self.config = config\n",
    "\n",
    "\n",
    "  def eval_metrics(self, y_true, y_pred):\n",
    "    rmse = np.sqrt(mean_squared_error(y_true, y_pred))\n",
    "    mae = mean_absolute_error(y_true, y_pred)\n",
    "    r2 = r2_score(y_true, y_pred)\n",
    "    return rmse, mae, r2\n",
    "\n",
    "\n",
    "  def log_into_mlflow(self):\n",
    "    test_data = pd.read_csv(self.config.test_data_path)\n",
    "    model = joblib.load(self.config.model_path)\n",
    "\n",
    "    X_test = test_data.drop([self.config.target_column], axis=1)\n",
    "    y_test = test_data[[self.config.target_column]]\n",
    "\n",
    "    # set mlflow registery and parse mlflow tracking uri\n",
    "    mlflow.set_registry_uri(self.config.mlflow_uri)\n",
    "    tracking_url_type_store = urlparse(mlflow.get_tracking_uri()).scheme\n",
    "\n",
    "    # Start run\n",
    "    with mlflow.start_run():\n",
    "      predicted_quantities = model.predict(X_test)\n",
    "      (rmse, mae, r2) = self.eval_metrics(y_test, predicted_quantities)\n",
    "\n",
    "      # saving metrics to local \n",
    "      scores = {'rmse': rmse, 'mae': mae, 'r2': r2}\n",
    "      save_json(path=Path(self.config.metric_file_name), data=scores)\n",
    "\n",
    "      # log params and metrics to mlflow\n",
    "      mlflow.log_params(self.config.all_params)\n",
    "      mlflow.log_metric('rmse', rmse)\n",
    "      mlflow.log_metric('mae', mae)\n",
    "      mlflow.log_metric('r2', r2)\n",
    "\n",
    "      ####\n",
    "      if tracking_url_type_store != 'file':\n",
    "        mlflow.sklearn.log_model(model, 'model', registered_model_name='ElasticNetModel')\n",
    "      else:\n",
    "        mlflow.sklearn.log_model(model, 'model')\n",
    "\n"
   ]
  },
  {
   "cell_type": "code",
   "execution_count": 15,
   "metadata": {},
   "outputs": [
    {
     "name": "stdout",
     "output_type": "stream",
     "text": [
      "Mar 21 09:14:38 common:65 INFO YAML file: config/config.yaml loaded successfully!\n",
      "Mar 21 09:14:38 common:65 INFO YAML file: params.yaml loaded successfully!\n",
      "Mar 21 09:14:38 common:65 INFO YAML file: schema.yaml loaded successfully!\n",
      "Mar 21 09:14:38 common:29 INFO Directory created at: artifacts\n",
      "Mar 21 09:14:38 common:29 INFO Directory created at: artifacts/model_evaluation\n",
      "Mar 21 09:14:39 common:87 INFO JSON file saved at: artifacts/model_evaluation/metrics.json\n"
     ]
    },
    {
     "name": "stderr",
     "output_type": "stream",
     "text": [
      "Registered model 'ElasticNetModel' already exists. Creating a new version of this model...\n",
      "2024/03/21 09:14:44 INFO mlflow.tracking._model_registry.client: Waiting up to 300 seconds for model version to finish creation.                     Model name: ElasticNetModel, version 2\n",
      "Created version '2' of model 'ElasticNetModel'.\n"
     ]
    }
   ],
   "source": [
    "# 7. Update pipeline\n",
    "try:\n",
    "  config = ConfigurationManager()\n",
    "  model_eval_config = config.get_model_evaluation_config()\n",
    "  model_eval = ModelEvaluation(config=model_eval_config)\n",
    "  model_eval.log_into_mlflow()\n",
    "except Exception as e:\n",
    "  raise e"
   ]
  },
  {
   "cell_type": "code",
   "execution_count": null,
   "metadata": {},
   "outputs": [],
   "source": []
  }
 ],
 "metadata": {
  "kernelspec": {
   "display_name": "Python 3",
   "language": "python",
   "name": "python3"
  },
  "language_info": {
   "codemirror_mode": {
    "name": "ipython",
    "version": 3
   },
   "file_extension": ".py",
   "mimetype": "text/x-python",
   "name": "python",
   "nbconvert_exporter": "python",
   "pygments_lexer": "ipython3",
   "version": "3.10.4"
  }
 },
 "nbformat": 4,
 "nbformat_minor": 2
}
